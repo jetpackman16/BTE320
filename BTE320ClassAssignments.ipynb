{
  "nbformat": 4,
  "nbformat_minor": 0,
  "metadata": {
    "colab": {
      "provenance": [],
      "authorship_tag": "ABX9TyMYjsvZk9Cdl1+iWeVFPL+T",
      "include_colab_link": true
    },
    "kernelspec": {
      "name": "python3",
      "display_name": "Python 3"
    },
    "language_info": {
      "name": "python"
    }
  },
  "cells": [
    {
      "cell_type": "markdown",
      "metadata": {
        "id": "view-in-github",
        "colab_type": "text"
      },
      "source": [
        "<a href=\"https://colab.research.google.com/github/jetpackman16/BTE320/blob/main/BTE320ClassAssignments.ipynb\" target=\"_parent\"><img src=\"https://colab.research.google.com/assets/colab-badge.svg\" alt=\"Open In Colab\"/></a>"
      ]
    },
    {
      "cell_type": "code",
      "execution_count": null,
      "metadata": {
        "id": "ydjNlliaBass",
        "colab": {
          "base_uri": "https://localhost:8080/"
        },
        "outputId": "8bec5586-81ba-4f35-f34c-33f00a5f693d"
      },
      "outputs": [
        {
          "output_type": "stream",
          "name": "stdout",
          "text": [
            "Calculate the surface area of a cylinder:\n",
            "Enter radius: 3\n",
            "Enter height: 4\n",
            "The area is:\n",
            "131.88 sq. ft"
          ]
        }
      ],
      "source": [
        "print(\"Calculate the surface area of a cylinder:\")\n",
        "pi = 3.14\n",
        "radius = float(input(\"Enter radius: \"))\n",
        "height = float(input(\"Enter height: \"))\n",
        "print(\"The area is:\")\n",
        "print((2*pi*radius**2) + (2*pi*radius*height), end = \" sq. ft\")"
      ]
    },
    {
      "cell_type": "code",
      "source": [
        "n1 = float(input('Please provide the first number: '))\n",
        "n2 = float(input('Please provide the second number: '))\n",
        "s = input('Please provide the operator: ')\n",
        "\n",
        "if s == '+':\n",
        "  print(f'{n1} + {n2} = {n1 + n2}')\n",
        "elif s == '-':\n",
        "  print(f'{n1} - {n2} = {n1 - n2}')\n",
        "elif s == '*':\n",
        "  print(f'{n1} * {n2} = {n1 * n2}')\n",
        "elif s == '/':\n",
        "  print(f'{n1} / {n2} = {n1 / n2}')\n",
        "elif s == '%':\n",
        "  print(f'{n1} % {n2} = {n1 % n2}')\n",
        "elif s == '**':\n",
        "  print(f'{n1} ** {n2} = {n1 ** n2}')\n",
        "elif s == '//':\n",
        "  print(f'{n1} // {n2} = {n1 // n2}')\n",
        "else:\n",
        "  print('Invalid operator')"
      ],
      "metadata": {
        "colab": {
          "base_uri": "https://localhost:8080/"
        },
        "id": "UL9F5wGnc4Aq",
        "outputId": "de66ff29-6281-4d8b-ff4f-4aa9ea393668"
      },
      "execution_count": null,
      "outputs": [
        {
          "output_type": "stream",
          "name": "stdout",
          "text": [
            "Please provide the first number: 1\n",
            "Please provide the second number: 4\n",
            "Please provide the operator: *\n",
            "1.0 * 4.0 = 4.0\n"
          ]
        }
      ]
    },
    {
      "cell_type": "code",
      "source": [
        "for numberHours in range(1,9):\n",
        "  fee = 5 + 2.5 * numberHours\n",
        "  if fee < 10:\n",
        "    fee = 10.0\n",
        "\n",
        "  elif fee > 20:\n",
        "    fee = 20.0\n",
        "  print(numberHours,fee)"
      ],
      "metadata": {
        "colab": {
          "base_uri": "https://localhost:8080/"
        },
        "id": "4mZiC3s6chCR",
        "outputId": "e74fec0b-d270-4508-e60a-ff6f8469b689"
      },
      "execution_count": null,
      "outputs": [
        {
          "output_type": "stream",
          "name": "stdout",
          "text": [
            "1 10.0\n",
            "2 10.0\n",
            "3 12.5\n",
            "4 15.0\n",
            "5 17.5\n",
            "6 20.0\n",
            "7 20.0\n",
            "8 20.0\n"
          ]
        }
      ]
    },
    {
      "cell_type": "code",
      "source": [
        "import math\n",
        "\n",
        "print('Ad$\\t', 'Profit')\n",
        "for adMoney in range(0,201,25):\n",
        "  revenue = (20 + 2 * round(math.sqrt(adMoney))) * 10\n",
        "  cost = 200 + adMoney\n",
        "  profit = revenue - cost\n",
        "  print(adMoney, '\\t' , profit)"
      ],
      "metadata": {
        "colab": {
          "base_uri": "https://localhost:8080/"
        },
        "id": "ACA-0LRBiW9x",
        "outputId": "45ae3e9d-7fde-4817-a8e2-ae76b753b6f4"
      },
      "execution_count": null,
      "outputs": [
        {
          "output_type": "stream",
          "name": "stdout",
          "text": [
            "Ad$\t Profit\n",
            "0 \t 0\n",
            "25 \t 75\n",
            "50 \t 90\n",
            "75 \t 105\n",
            "100 \t 100\n",
            "125 \t 95\n",
            "150 \t 90\n",
            "175 \t 85\n",
            "200 \t 80\n"
          ]
        }
      ]
    },
    {
      "cell_type": "code",
      "source": [
        "# Rock Paper Scissors Game\n",
        "import random\n",
        "\n",
        "play = input('Would you like to play a game (Yes/No)? ').capitalize()\n",
        "\n",
        "while play == 'Yes':\n",
        "  p1 = input('Player 1 - Choose between Rock/Paper/Scissors: ').capitalize()\n",
        "  if p1 in ['Rock', 'Paper', 'Scissors']:\n",
        "    p2 = random.choice(['Rock', 'Paper', 'Scissors']).capitalize()\n",
        "\n",
        "    print(f'Player chose: {p1}; Computer chose: {p2} ')\n",
        "\n",
        "    if p1 == p2:\n",
        "      print(\"It's a tie!\")\n",
        "    elif ((p1 == 'Rock' and p2 == 'Scissors') or\n",
        "        (p1 == 'Scissors' and p2 == 'Paper') or\n",
        "        (p1 == 'Paper' and p2 == 'Rock')\n",
        "        ):\n",
        "      print('Player wins!')\n",
        "    else:\n",
        "      print('Computer wins!')\n",
        "\n",
        "  else:\n",
        "    print('Invalid Input')\n",
        "  play = input('Would you like to play another game (Yes/No)? ').capitalize()\n",
        "print('Have a good day!')"
      ],
      "metadata": {
        "colab": {
          "base_uri": "https://localhost:8080/"
        },
        "id": "e2i7puBnHV6F",
        "outputId": "0f6a0c91-202c-49f0-ce04-a927c1cf0408"
      },
      "execution_count": null,
      "outputs": [
        {
          "metadata": {
            "tags": null
          },
          "name": "stdout",
          "output_type": "stream",
          "text": [
            "Player chose: Rock; Computer chose: Rock \n",
            "It's a tie!\n"
          ]
        }
      ]
    },
    {
      "cell_type": "code",
      "source": [
        "# Infinite List of Numbers (Decimals)\n",
        "lst = []\n",
        "\n",
        "num = float(input('Give a number: '))\n",
        "\n",
        "while num != 0.0:\n",
        "  lst.append(num)\n",
        "  num = float(input('Give a number: '))\n",
        "lst.sort(reverse=True)\n",
        "print(lst)"
      ],
      "metadata": {
        "id": "hmrYN_5_LbkO"
      },
      "execution_count": null,
      "outputs": []
    },
    {
      "cell_type": "code",
      "source": [
        "months={}\n",
        "\n",
        "names=['jan','feb','mar','apr','may','jun','jul','aug','sep','oct','nov','dec']\n",
        "numbers=[1,2,3,4,5,6,7,8,9,10,11,12]\n",
        "\n",
        "for idx in range(len(numbers)):\n",
        "  months[numbers[idx]]=names[idx]\n",
        "print(months)\n",
        "\n",
        "months={}\n",
        "\n",
        "names=['jan','feb','mar','apr','may','jun','jul','aug','sep','oct','nov','dec']\n",
        "numbers=[1,2,3,4,5,6,7,8,9,10,11,12]\n",
        "\n",
        "\n",
        "cntr=0\n",
        "for num in numbers:\n",
        "  months[num]=names[cntr]\n",
        "  cntr +=1\n",
        "months"
      ],
      "metadata": {
        "colab": {
          "base_uri": "https://localhost:8080/"
        },
        "id": "ukfdCFbTMQoo",
        "outputId": "cfebd00b-b5b8-4991-8316-b2e73b819f09"
      },
      "execution_count": null,
      "outputs": [
        {
          "output_type": "stream",
          "name": "stdout",
          "text": [
            "{1: 'jan', 2: 'feb', 3: 'mar', 4: 'apr', 5: 'may', 6: 'jun', 7: 'jul', 8: 'aug', 9: 'sep', 10: 'oct', 11: 'nov', 12: 'dec'}\n"
          ]
        },
        {
          "output_type": "execute_result",
          "data": {
            "text/plain": [
              "{1: 'jan',\n",
              " 2: 'feb',\n",
              " 3: 'mar',\n",
              " 4: 'apr',\n",
              " 5: 'may',\n",
              " 6: 'jun',\n",
              " 7: 'jul',\n",
              " 8: 'aug',\n",
              " 9: 'sep',\n",
              " 10: 'oct',\n",
              " 11: 'nov',\n",
              " 12: 'dec'}"
            ]
          },
          "metadata": {},
          "execution_count": 1
        }
      ]
    },
    {
      "cell_type": "code",
      "source": [
        "counts={}\n",
        "\n",
        "while len(counts)<5:\n",
        "  key=input('given a string:')\n",
        "\n",
        "  if key not in counts:\n",
        "    counts[key]=1\n",
        "  else:\n",
        "    counts[key]+=1\n",
        "print(counts)"
      ],
      "metadata": {
        "colab": {
          "base_uri": "https://localhost:8080/"
        },
        "id": "T_u3h-80MdyM",
        "outputId": "9752dc7a-c570-4986-d0b6-b7a6d48a8e01"
      },
      "execution_count": null,
      "outputs": [
        {
          "output_type": "stream",
          "name": "stdout",
          "text": [
            "given a string:july\n",
            "given a string:may\n",
            "given a string:april\n",
            "given a string:march\n",
            "given a string:law\n",
            "{'july': 1, 'may': 1, 'april': 1, 'march': 1, 'law': 1}\n"
          ]
        }
      ]
    },
    {
      "cell_type": "code",
      "source": [
        "def calcFee(hours):\n",
        "    base_fee = 5\n",
        "    hourly_rate = 2.5\n",
        "    total_fee = base_fee + (hours * hourly_rate)\n",
        "    return total_fee\n",
        "\n",
        "hours_parked = int(input(\"Enter hours parked: \"))\n",
        "fee = calcFee(hours_parked)\n",
        "print(f\"Parking fee: $ {fee:.2f}\")"
      ],
      "metadata": {
        "id": "ERKi0r30Nfvx",
        "colab": {
          "base_uri": "https://localhost:8080/"
        },
        "outputId": "efdfea01-3252-4aee-a653-92fa0b937990"
      },
      "execution_count": null,
      "outputs": [
        {
          "output_type": "stream",
          "name": "stdout",
          "text": [
            "Enter hours parked: 2\n",
            "Parking fee: $ 10.00\n"
          ]
        }
      ]
    },
    {
      "cell_type": "code",
      "source": [
        "def reverse(s):\n",
        "  if len(s) <= 1:\n",
        "    return s\n",
        "  else:\n",
        "    #return s[-1] + reverse(s[:-1])\n",
        "    return s[-1] + reverse(s[1:-1]) + s[0]\n",
        "    #return reverse(s[1:]) + s[0]\n",
        "\n",
        "reverse('Hello')"
      ],
      "metadata": {
        "id": "RlV_nFbPn_mx",
        "colab": {
          "base_uri": "https://localhost:8080/",
          "height": 35
        },
        "outputId": "cc2d7489-9f0f-4d3c-f1c8-4a90c21d324f"
      },
      "execution_count": null,
      "outputs": [
        {
          "output_type": "execute_result",
          "data": {
            "text/plain": [
              "'olleH'"
            ],
            "application/vnd.google.colaboratory.intrinsic+json": {
              "type": "string"
            }
          },
          "metadata": {},
          "execution_count": 9
        }
      ]
    },
    {
      "cell_type": "code",
      "source": [
        "def getValues(n):\n",
        "    L = []\n",
        "    for i in range(n):\n",
        "        try:\n",
        "            x = float(input(\"Enter a value: \"))\n",
        "            L.append(x)\n",
        "        except ValueError:\n",
        "            print(\"Invalid input. Please enter a number.\")\n",
        "            return []\n",
        "    return L\n",
        "\n",
        "def calcAverage(alist):\n",
        "    if len(alist) == 0:\n",
        "        print(\"No values were entered. Cannot calculate average.\")\n",
        "        return None\n",
        "    sum = 0\n",
        "    for x in alist:\n",
        "        sum += x\n",
        "    return sum / len(alist)\n",
        "\n",
        "if __name__ == \"__main__\":\n",
        "    try:\n",
        "        n = int(input(\"Enter the number of values: \"))\n",
        "        L = getValues(n)\n",
        "        avg = calcAverage(L)\n",
        "        if avg is not None:\n",
        "            print(f\"The average is: {avg:.2f}\")\n",
        "    except ValueError:\n",
        "        print(\"Invalid input. Please enter a whole number.\")"
      ],
      "metadata": {
        "colab": {
          "base_uri": "https://localhost:8080/"
        },
        "id": "b121m7rYWg-1",
        "outputId": "1dc758e2-45eb-4953-ec49-a2afeeca5ba6"
      },
      "execution_count": 1,
      "outputs": [
        {
          "output_type": "stream",
          "name": "stdout",
          "text": [
            "Enter the number of values: 1\n",
            "Enter a value: 2\n",
            "The average is: 2.00\n"
          ]
        }
      ]
    },
    {
      "cell_type": "code",
      "source": [
        "class Greeting:\n",
        "  def __init__(self, first, last):\n",
        "    self.first = first\n",
        "    self.last = last\n",
        "\n",
        "  def display(self, formal=False):\n",
        "    if formal:\n",
        "      print(f'Hello, {self.first} {self.last}')\n",
        "    else:\n",
        "      print(f'Hi {self.first}')\n",
        "\n",
        "  def __str__(self):\n",
        "    #return str (self.first) + \", \" + str(self.last)\n",
        "    #return \"{}, {}\".format(self.first, self.last)\n",
        "    return f'{self.first}, {self.last}'\n",
        "greeting = Greeting('Donald', 'Becker')\n",
        "greeting.display()\n",
        "print(greeting)"
      ],
      "metadata": {
        "colab": {
          "base_uri": "https://localhost:8080/"
        },
        "id": "Ox25QiTqYQ_4",
        "outputId": "08bc574b-e790-433a-89e2-40445dc50a54"
      },
      "execution_count": null,
      "outputs": [
        {
          "output_type": "stream",
          "name": "stdout",
          "text": [
            "Hi Donald\n",
            "Donald, Becker\n"
          ]
        }
      ]
    },
    {
      "cell_type": "code",
      "source": [
        "class Coordinate:\n",
        "  def __init__(self, x, y):\n",
        "    self.x = x\n",
        "    self.y = y\n",
        "\n",
        "  def distance(self, other):\n",
        "    dx = (self.x - other.x) ** 2\n",
        "    dy = (self.y - other.y) ** 2\n",
        "    dist = (dx + dy) ** 0.5\n",
        "    print(dist)\n",
        "\n",
        "a = Coordinate(0,0)\n",
        "b = Coordinate(3,4)\n",
        "a.distance(b)"
      ],
      "metadata": {
        "colab": {
          "base_uri": "https://localhost:8080/"
        },
        "id": "V20a28AXvCkq",
        "outputId": "60a3e17e-f0bf-4f1b-8c02-e38169b139ec"
      },
      "execution_count": null,
      "outputs": [
        {
          "output_type": "stream",
          "name": "stdout",
          "text": [
            "5.0\n"
          ]
        }
      ]
    }
  ]
}