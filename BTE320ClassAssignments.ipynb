{
  "nbformat": 4,
  "nbformat_minor": 0,
  "metadata": {
    "colab": {
      "provenance": [],
      "authorship_tag": "ABX9TyODqU7tNDHqno+2ERvx5OKO",
      "include_colab_link": true
    },
    "kernelspec": {
      "name": "python3",
      "display_name": "Python 3"
    },
    "language_info": {
      "name": "python"
    }
  },
  "cells": [
    {
      "cell_type": "markdown",
      "metadata": {
        "id": "view-in-github",
        "colab_type": "text"
      },
      "source": [
        "<a href=\"https://colab.research.google.com/github/jetpackman16/BTE320/blob/main/BTE320ClassAssignments.ipynb\" target=\"_parent\"><img src=\"https://colab.research.google.com/assets/colab-badge.svg\" alt=\"Open In Colab\"/></a>"
      ]
    },
    {
      "cell_type": "code",
      "execution_count": 1,
      "metadata": {
        "id": "ydjNlliaBass",
        "colab": {
          "base_uri": "https://localhost:8080/"
        },
        "outputId": "8bec5586-81ba-4f35-f34c-33f00a5f693d"
      },
      "outputs": [
        {
          "output_type": "stream",
          "name": "stdout",
          "text": [
            "Calculate the surface area of a cylinder:\n",
            "Enter radius: 3\n",
            "Enter height: 4\n",
            "The area is:\n",
            "131.88 sq. ft"
          ]
        }
      ],
      "source": [
        "print(\"Calculate the surface area of a cylinder:\")\n",
        "pi = 3.14\n",
        "radius = float(input(\"Enter radius: \"))\n",
        "height = float(input(\"Enter height: \"))\n",
        "print(\"The area is:\")\n",
        "print((2*pi*radius**2) + (2*pi*radius*height), end = \" sq. ft\")"
      ]
    }
  ]
}