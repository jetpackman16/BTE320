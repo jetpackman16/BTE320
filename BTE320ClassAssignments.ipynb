{
  "nbformat": 4,
  "nbformat_minor": 0,
  "metadata": {
    "colab": {
      "provenance": [],
      "authorship_tag": "ABX9TyMzX/X3UcFH8xnGYu4rg7GE",
      "include_colab_link": true
    },
    "kernelspec": {
      "name": "python3",
      "display_name": "Python 3"
    },
    "language_info": {
      "name": "python"
    }
  },
  "cells": [
    {
      "cell_type": "markdown",
      "metadata": {
        "id": "view-in-github",
        "colab_type": "text"
      },
      "source": [
        "<a href=\"https://colab.research.google.com/github/jetpackman16/BTE320/blob/main/BTE320ClassAssignments.ipynb\" target=\"_parent\"><img src=\"https://colab.research.google.com/assets/colab-badge.svg\" alt=\"Open In Colab\"/></a>"
      ]
    },
    {
      "cell_type": "code",
      "execution_count": null,
      "metadata": {
        "id": "ydjNlliaBass",
        "colab": {
          "base_uri": "https://localhost:8080/"
        },
        "outputId": "8bec5586-81ba-4f35-f34c-33f00a5f693d"
      },
      "outputs": [
        {
          "output_type": "stream",
          "name": "stdout",
          "text": [
            "Calculate the surface area of a cylinder:\n",
            "Enter radius: 3\n",
            "Enter height: 4\n",
            "The area is:\n",
            "131.88 sq. ft"
          ]
        }
      ],
      "source": [
        "print(\"Calculate the surface area of a cylinder:\")\n",
        "pi = 3.14\n",
        "radius = float(input(\"Enter radius: \"))\n",
        "height = float(input(\"Enter height: \"))\n",
        "print(\"The area is:\")\n",
        "print((2*pi*radius**2) + (2*pi*radius*height), end = \" sq. ft\")"
      ]
    },
    {
      "cell_type": "code",
      "source": [
        "n1 = float(input('Please provide the first number: '))\n",
        "n2 = float(input('Please provide the second number: '))\n",
        "s = input('Please provide the operator: ')\n",
        "\n",
        "if s == '+':\n",
        "  print(f'{n1} + {n2} = {n1 + n2}')\n",
        "elif s == '-':\n",
        "  print(f'{n1} - {n2} = {n1 - n2}')\n",
        "elif s == '*':\n",
        "  print(f'{n1} * {n2} = {n1 * n2}')\n",
        "elif s == '/':\n",
        "  print(f'{n1} / {n2} = {n1 / n2}')\n",
        "elif s == '%':\n",
        "  print(f'{n1} % {n2} = {n1 % n2}')\n",
        "elif s == '**':\n",
        "  print(f'{n1} ** {n2} = {n1 ** n2}')\n",
        "elif s == '//':\n",
        "  print(f'{n1} // {n2} = {n1 // n2}')\n",
        "else:\n",
        "  print('Invalid operator')"
      ],
      "metadata": {
        "colab": {
          "base_uri": "https://localhost:8080/"
        },
        "id": "UL9F5wGnc4Aq",
        "outputId": "de66ff29-6281-4d8b-ff4f-4aa9ea393668"
      },
      "execution_count": null,
      "outputs": [
        {
          "output_type": "stream",
          "name": "stdout",
          "text": [
            "Please provide the first number: 1\n",
            "Please provide the second number: 4\n",
            "Please provide the operator: *\n",
            "1.0 * 4.0 = 4.0\n"
          ]
        }
      ]
    },
    {
      "cell_type": "code",
      "source": [
        "for numberHours in range(1,9):\n",
        "  fee = 5 + 2.5 * numberHours\n",
        "  if fee < 10:\n",
        "    fee = 10.0\n",
        "\n",
        "  elif fee > 20:\n",
        "    fee = 20.0\n",
        "  print(numberHours,fee)"
      ],
      "metadata": {
        "colab": {
          "base_uri": "https://localhost:8080/"
        },
        "id": "4mZiC3s6chCR",
        "outputId": "e74fec0b-d270-4508-e60a-ff6f8469b689"
      },
      "execution_count": null,
      "outputs": [
        {
          "output_type": "stream",
          "name": "stdout",
          "text": [
            "1 10.0\n",
            "2 10.0\n",
            "3 12.5\n",
            "4 15.0\n",
            "5 17.5\n",
            "6 20.0\n",
            "7 20.0\n",
            "8 20.0\n"
          ]
        }
      ]
    },
    {
      "cell_type": "code",
      "source": [
        "import math\n",
        "\n",
        "print('Ad$\\t', 'Profit')\n",
        "for adMoney in range(0,201,25):\n",
        "  revenue = (20 + 2 * round(math.sqrt(adMoney))) * 10\n",
        "  cost = 200 + adMoney\n",
        "  profit = revenue - cost\n",
        "  print(adMoney, '\\t' , profit)"
      ],
      "metadata": {
        "colab": {
          "base_uri": "https://localhost:8080/"
        },
        "id": "ACA-0LRBiW9x",
        "outputId": "45ae3e9d-7fde-4817-a8e2-ae76b753b6f4"
      },
      "execution_count": null,
      "outputs": [
        {
          "output_type": "stream",
          "name": "stdout",
          "text": [
            "Ad$\t Profit\n",
            "0 \t 0\n",
            "25 \t 75\n",
            "50 \t 90\n",
            "75 \t 105\n",
            "100 \t 100\n",
            "125 \t 95\n",
            "150 \t 90\n",
            "175 \t 85\n",
            "200 \t 80\n"
          ]
        }
      ]
    },
    {
      "cell_type": "code",
      "source": [
        "# Rock Paper Scissors Game\n",
        "import random\n",
        "\n",
        "play = input('Would you like to play a game (Yes/No)? ').capitalize()\n",
        "\n",
        "while play == 'Yes':\n",
        "  p1 = input('Player 1 - Choose between Rock/Paper/Scissors: ').capitalize()\n",
        "  if p1 in ['Rock', 'Paper', 'Scissors']:\n",
        "    p2 = random.choice(['Rock', 'Paper', 'Scissors']).capitalize()\n",
        "\n",
        "    print(f'Player chose: {p1}; Computer chose: {p2} ')\n",
        "\n",
        "    if p1 == p2:\n",
        "      print(\"It's a tie!\")\n",
        "    elif ((p1 == 'Rock' and p2 == 'Scissors') or\n",
        "        (p1 == 'Scissors' and p2 == 'Paper') or\n",
        "        (p1 == 'Paper' and p2 == 'Rock')\n",
        "        ):\n",
        "      print('Player wins!')\n",
        "    else:\n",
        "      print('Computer wins!')\n",
        "\n",
        "  else:\n",
        "    print('Invalid Input')\n",
        "  play = input('Would you like to play another game (Yes/No)? ').capitalize()\n",
        "print('Have a good day!')"
      ],
      "metadata": {
        "colab": {
          "base_uri": "https://localhost:8080/"
        },
        "id": "e2i7puBnHV6F",
        "outputId": "158988bf-3f2e-4909-bfe1-30599cad8124"
      },
      "execution_count": null,
      "outputs": [
        {
          "output_type": "stream",
          "name": "stdout",
          "text": [
            "Would you like to play a game (Yes/No)? Yes\n",
            "Player 1 - Choose between Rock/Paper/Scissors: Rock\n",
            "Player chose: Rock; Computer chose: Rock \n",
            "It's a tie!\n"
          ]
        }
      ]
    },
    {
      "cell_type": "code",
      "source": [],
      "metadata": {
        "id": "hmrYN_5_LbkO"
      },
      "execution_count": null,
      "outputs": []
    }
  ]
}